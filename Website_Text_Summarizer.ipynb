{
  "nbformat": 4,
  "nbformat_minor": 0,
  "metadata": {
    "colab": {
      "provenance": [],
      "authorship_tag": "ABX9TyOn1TSmzxF8xqEXP24/UxWs",
      "include_colab_link": true
    },
    "kernelspec": {
      "name": "python3",
      "display_name": "Python 3"
    },
    "language_info": {
      "name": "python"
    }
  },
  "cells": [
    {
      "cell_type": "markdown",
      "metadata": {
        "id": "view-in-github",
        "colab_type": "text"
      },
      "source": [
        "<a href=\"https://colab.research.google.com/github/araghavendra16/Website-Text-Summarizer/blob/main/Website_Text_Summarizer.ipynb\" target=\"_parent\"><img src=\"https://colab.research.google.com/assets/colab-badge.svg\" alt=\"Open In Colab\"/></a>"
      ]
    },
    {
      "cell_type": "code",
      "execution_count": 60,
      "metadata": {
        "id": "3g9s0xf-0u02"
      },
      "outputs": [],
      "source": [
        "#!pip install newspaper3k transformers gradio --quiet "
      ]
    },
    {
      "cell_type": "code",
      "source": [
        "from newspaper import Article\n",
        "from newspaper import Config\n",
        "import nltk\n",
        "nltk.download('punkt')\n",
        "\n",
        "from transformers import pipeline\n",
        "import gradio as gr\n",
        "from gradio.mix import Parallel, Series"
      ],
      "metadata": {
        "colab": {
          "base_uri": "https://localhost:8080/"
        },
        "id": "RUQld7Bu1ewL",
        "outputId": "5c905c30-b2da-4df1-85bf-23e9c735c716"
      },
      "execution_count": 3,
      "outputs": [
        {
          "output_type": "stream",
          "name": "stderr",
          "text": [
            "[nltk_data] Downloading package punkt to /root/nltk_data...\n",
            "[nltk_data]   Unzipping tokenizers/punkt.zip.\n"
          ]
        }
      ]
    },
    {
      "cell_type": "code",
      "source": [
        "USER_AGENT = 'Mozilla/5.0 (Macintosh; Intel Mac OS X 10.15; rv:78.0) Gecko/20100101 Firefox/78.0'\n",
        "\n",
        "config = Config()\n",
        "config.browser_user_agent = USER_AGENT\n",
        "config.request_timeout = 10\n",
        "\n",
        "url = 'https://www.orfonline.org/research/india-at-the-centre-of-the-indian-ocean-submarine-cable-network/'\n",
        "article = Article(url, config=config)"
      ],
      "metadata": {
        "id": "m8MM-C531xnm"
      },
      "execution_count": 7,
      "outputs": []
    },
    {
      "cell_type": "code",
      "source": [
        "article.download() "
      ],
      "metadata": {
        "id": "wnbzVKBA2BuI"
      },
      "execution_count": 8,
      "outputs": []
    },
    {
      "cell_type": "code",
      "source": [
        "#article.html"
      ],
      "metadata": {
        "id": "DUhRXObF2G7v"
      },
      "execution_count": 61,
      "outputs": []
    },
    {
      "cell_type": "code",
      "source": [
        "article.parse() \n",
        "\n",
        "authors = \", \".join(author for author in article.authors)\n",
        "title = article.title\n",
        "date = article.publish_date\n",
        "text = article.text\n",
        "image = article.top_image\n",
        "videos = article.movies\n",
        "url = article.url"
      ],
      "metadata": {
        "id": "RXRYoc2k2OpX"
      },
      "execution_count": 10,
      "outputs": []
    },
    {
      "cell_type": "code",
      "source": [
        "print(\"Information about the article\")\n",
        "print(\"=\" * 30)\n",
        "print(f\"Title: {title}\")\n",
        "print(f\"Author(s): {authors}\")\n",
        "print(f\"Publish date: {date}\")\n",
        "print(f\"Image: {image}\")\n",
        "print(f\"Videos: {videos}\")\n",
        "print(f\"Article link: {url}\")\n",
        "print(f\"Content: {text[:100] + '...'}\")"
      ],
      "metadata": {
        "colab": {
          "base_uri": "https://localhost:8080/"
        },
        "id": "ASTGSCF52PGD",
        "outputId": "faad95bd-8804-45ac-f463-9ddea243e761"
      },
      "execution_count": 11,
      "outputs": [
        {
          "output_type": "stream",
          "name": "stdout",
          "text": [
            "Information about the article\n",
            "==============================\n",
            "Title: India at the Centre of the Indian Ocean Submarine Cable Network: Trusted Connectivity in Practice\n",
            "Author(s): Kaush Arha\n",
            "Publish date: None\n",
            "Image: https://www.orfonline.org/favicon.ico\n",
            "Videos: []\n",
            "Article link: https://www.orfonline.org/research/india-at-the-centre-of-the-indian-ocean-submarine-cable-network/\n",
            "Content: Introduction\n",
            "\n",
            "It is in India’s strategic interest to be the leader of trusted connectivity in data f...\n"
          ]
        }
      ]
    },
    {
      "cell_type": "code",
      "source": [
        "article.nlp()"
      ],
      "metadata": {
        "id": "dlfpy_ai2SNG"
      },
      "execution_count": 12,
      "outputs": []
    },
    {
      "cell_type": "code",
      "source": [
        "keywords = article.keywords\n",
        "keywords.sort()\n",
        "print(keywords)"
      ],
      "metadata": {
        "colab": {
          "base_uri": "https://localhost:8080/"
        },
        "id": "tPykt6g82XKF",
        "outputId": "fa8e88b6-085d-4e1d-c324-fc101f388cca"
      },
      "execution_count": 13,
      "outputs": [
        {
          "output_type": "stream",
          "name": "stdout",
          "text": [
            "['cable', 'cables', 'centre', 'connectivity', 'data', 'digital', 'global', 'india', 'indian', 'indias', 'network', 'ocean', 'practice', 'submarine', 'trusted']\n"
          ]
        }
      ]
    },
    {
      "cell_type": "code",
      "source": [
        "print(f\"Summary: \\n{article.summary}\")"
      ],
      "metadata": {
        "colab": {
          "base_uri": "https://localhost:8080/"
        },
        "id": "MKLT9HCz2Y45",
        "outputId": "3e0de7b4-b1bd-4092-e3f2-7ee6ac7eb26e"
      },
      "execution_count": 14,
      "outputs": [
        {
          "output_type": "stream",
          "name": "stdout",
          "text": [
            "Summary: \n",
            "IntroductionIt is in India’s strategic interest to be the leader of trusted connectivity in data flows across the Indian Ocean.\n",
            "India may pursue five pathways to distinguish itself as the preferred provider of trusted connectivity across the Indian Ocean.\n",
            "In the specialised submarine cable industry, there are a limited number of ships for cable deployment and maintenance.\n",
            "It should leverage the Quad group for greater investment and priority to submarine cables and trusted connectivity across the Indian Ocean.\n",
            "Trusted connectivity and improved India-Europe submarine cable connections should feature prominently in the European Union’s Trade and Technology Council deliberations with India.\n"
          ]
        }
      ]
    },
    {
      "cell_type": "code",
      "source": [
        "io1 = gr.Interface.load('huggingface/sshleifer/distilbart-cnn-12-6')\n",
        "io2 = gr.Interface.load(\"huggingface/facebook/bart-large-cnn\")\n",
        "io3 = gr.Interface.load(\"huggingface/google/pegasus-xsum\")  \n",
        "io4 = gr.Interface.load(\"huggingface/sshleifer/distilbart-cnn-6-6\")                   \n",
        "\n",
        "iface = Parallel(io1, io2, io3, io4,\n",
        "                 theme='huggingface', \n",
        "                 inputs = gr.inputs.Textbox(lines = 10, label=\"Text\"))\n",
        "\n",
        "iface.launch()"
      ],
      "metadata": {
        "colab": {
          "base_uri": "https://localhost:8080/",
          "height": 859
        },
        "id": "seFOw1cC2ew9",
        "outputId": "3a723386-f8a7-4e98-9fa5-37b356fb10c0"
      },
      "execution_count": 15,
      "outputs": [
        {
          "output_type": "stream",
          "name": "stderr",
          "text": [
            "/usr/local/lib/python3.9/dist-packages/gradio/interface.py:93: UserWarning: gr.Intrerface.load() will be deprecated. Use gr.load() instead.\n",
            "  warnings.warn(\"gr.Intrerface.load() will be deprecated. Use gr.load() instead.\")\n"
          ]
        },
        {
          "output_type": "stream",
          "name": "stdout",
          "text": [
            "Fetching model from: https://huggingface.co/sshleifer/distilbart-cnn-12-6\n",
            "Fetching model from: https://huggingface.co/facebook/bart-large-cnn\n",
            "Fetching model from: https://huggingface.co/google/pegasus-xsum\n",
            "Fetching model from: https://huggingface.co/sshleifer/distilbart-cnn-6-6\n"
          ]
        },
        {
          "output_type": "stream",
          "name": "stderr",
          "text": [
            "/usr/local/lib/python3.9/dist-packages/gradio/inputs.py:27: UserWarning: Usage of gradio.inputs is deprecated, and will not be supported in the future, please import your component from gradio.components\n",
            "  warnings.warn(\n",
            "/usr/local/lib/python3.9/dist-packages/gradio/deprecation.py:40: UserWarning: `optional` parameter is deprecated, and it has no effect\n",
            "  warnings.warn(value)\n",
            "/usr/local/lib/python3.9/dist-packages/gradio/deprecation.py:40: UserWarning: `numeric` parameter is deprecated, and it has no effect\n",
            "  warnings.warn(value)\n",
            "/usr/local/lib/python3.9/dist-packages/gradio/blocks.py:528: UserWarning: Cannot load huggingface. Caught Exception: The space huggingface does not exist\n",
            "  warnings.warn(f\"Cannot load {theme}. Caught Exception: {str(e)}\")\n"
          ]
        },
        {
          "output_type": "stream",
          "name": "stdout",
          "text": [
            "Colab notebook detected. To show errors in colab notebook, set debug=True in launch()\n",
            "Note: opening Chrome Inspector may crash demo inside Colab notebooks.\n",
            "\n",
            "To create a public link, set `share=True` in `launch()`.\n"
          ]
        },
        {
          "output_type": "display_data",
          "data": {
            "text/plain": [
              "<IPython.core.display.Javascript object>"
            ],
            "application/javascript": [
              "(async (port, path, width, height, cache, element) => {\n",
              "                        if (!google.colab.kernel.accessAllowed && !cache) {\n",
              "                            return;\n",
              "                        }\n",
              "                        element.appendChild(document.createTextNode(''));\n",
              "                        const url = await google.colab.kernel.proxyPort(port, {cache});\n",
              "\n",
              "                        const external_link = document.createElement('div');\n",
              "                        external_link.innerHTML = `\n",
              "                            <div style=\"font-family: monospace; margin-bottom: 0.5rem\">\n",
              "                                Running on <a href=${new URL(path, url).toString()} target=\"_blank\">\n",
              "                                    https://localhost:${port}${path}\n",
              "                                </a>\n",
              "                            </div>\n",
              "                        `;\n",
              "                        element.appendChild(external_link);\n",
              "\n",
              "                        const iframe = document.createElement('iframe');\n",
              "                        iframe.src = new URL(path, url).toString();\n",
              "                        iframe.height = height;\n",
              "                        iframe.allow = \"autoplay; camera; microphone; clipboard-read; clipboard-write;\"\n",
              "                        iframe.width = width;\n",
              "                        iframe.style.border = 0;\n",
              "                        element.appendChild(iframe);\n",
              "                    })(7860, \"/\", \"100%\", 500, false, window.element)"
            ]
          },
          "metadata": {}
        },
        {
          "output_type": "execute_result",
          "data": {
            "text/plain": []
          },
          "metadata": {},
          "execution_count": 15
        }
      ]
    },
    {
      "cell_type": "code",
      "source": [
        "def extract_article_text(url):\n",
        "  USER_AGENT = 'Mozilla/5.0 (Macintosh; Intel Mac OS X 10.15; rv:78.0) Gecko/20100101 Firefox/78.0'\n",
        "  config = Config()\n",
        "  config.browser_user_agent = USER_AGENT\n",
        "  config.request_timeout = 10\n",
        "\n",
        "  article = Article(url, config=config)\n",
        "  article.download()\n",
        "  article.parse()\n",
        "  text = article.text\n",
        "  return text"
      ],
      "metadata": {
        "id": "OxHAYxQK2sLu"
      },
      "execution_count": 16,
      "outputs": []
    },
    {
      "cell_type": "code",
      "source": [
        "extractor = gr.Interface(extract_article_text, 'text', 'text')\n",
        "summarizer = gr.Interface.load('huggingface/sshleifer/distilbart-cnn-12-6')\n",
        "\n",
        "sample_url = [['https://www.orfonline.org/'],\n",
        "              ['https://jiss.org.il/en/']]\n",
        "\n",
        "desc =  '''\n",
        "        Using Hugging Face models to summarize articles. \n",
        "        Using distilbert model \n",
        "        '''\n",
        "\n",
        "iface = Series(extractor, summarizer, \n",
        "  inputs = gr.inputs.Textbox(\n",
        "      lines = 2,\n",
        "      label = 'URL'\n",
        "  ),\n",
        "  outputs = 'text',\n",
        "  title = 'Website text summarizer',\n",
        "  theme = 'huggingface',\n",
        "  description = desc,\n",
        "  examples=sample_url)\n",
        "\n",
        "iface.launch()"
      ],
      "metadata": {
        "colab": {
          "base_uri": "https://localhost:8080/",
          "height": 807
        },
        "id": "VdLzS6rA4Q0s",
        "outputId": "23d2e39d-b387-4f28-f692-b1e924022e87"
      },
      "execution_count": 59,
      "outputs": [
        {
          "output_type": "stream",
          "name": "stderr",
          "text": [
            "/usr/local/lib/python3.9/dist-packages/gradio/interface.py:93: UserWarning: gr.Intrerface.load() will be deprecated. Use gr.load() instead.\n",
            "  warnings.warn(\"gr.Intrerface.load() will be deprecated. Use gr.load() instead.\")\n"
          ]
        },
        {
          "output_type": "stream",
          "name": "stdout",
          "text": [
            "Fetching model from: https://huggingface.co/sshleifer/distilbart-cnn-12-6\n"
          ]
        },
        {
          "output_type": "stream",
          "name": "stderr",
          "text": [
            "/usr/local/lib/python3.9/dist-packages/gradio/inputs.py:27: UserWarning: Usage of gradio.inputs is deprecated, and will not be supported in the future, please import your component from gradio.components\n",
            "  warnings.warn(\n",
            "/usr/local/lib/python3.9/dist-packages/gradio/deprecation.py:40: UserWarning: `optional` parameter is deprecated, and it has no effect\n",
            "  warnings.warn(value)\n",
            "/usr/local/lib/python3.9/dist-packages/gradio/deprecation.py:40: UserWarning: `numeric` parameter is deprecated, and it has no effect\n",
            "  warnings.warn(value)\n",
            "/usr/local/lib/python3.9/dist-packages/gradio/blocks.py:528: UserWarning: Cannot load huggingface. Caught Exception: The space huggingface does not exist\n",
            "  warnings.warn(f\"Cannot load {theme}. Caught Exception: {str(e)}\")\n"
          ]
        },
        {
          "output_type": "stream",
          "name": "stdout",
          "text": [
            "Colab notebook detected. To show errors in colab notebook, set debug=True in launch()\n",
            "Note: opening Chrome Inspector may crash demo inside Colab notebooks.\n",
            "\n",
            "To create a public link, set `share=True` in `launch()`.\n"
          ]
        },
        {
          "output_type": "display_data",
          "data": {
            "text/plain": [
              "<IPython.core.display.Javascript object>"
            ],
            "application/javascript": [
              "(async (port, path, width, height, cache, element) => {\n",
              "                        if (!google.colab.kernel.accessAllowed && !cache) {\n",
              "                            return;\n",
              "                        }\n",
              "                        element.appendChild(document.createTextNode(''));\n",
              "                        const url = await google.colab.kernel.proxyPort(port, {cache});\n",
              "\n",
              "                        const external_link = document.createElement('div');\n",
              "                        external_link.innerHTML = `\n",
              "                            <div style=\"font-family: monospace; margin-bottom: 0.5rem\">\n",
              "                                Running on <a href=${new URL(path, url).toString()} target=\"_blank\">\n",
              "                                    https://localhost:${port}${path}\n",
              "                                </a>\n",
              "                            </div>\n",
              "                        `;\n",
              "                        element.appendChild(external_link);\n",
              "\n",
              "                        const iframe = document.createElement('iframe');\n",
              "                        iframe.src = new URL(path, url).toString();\n",
              "                        iframe.height = height;\n",
              "                        iframe.allow = \"autoplay; camera; microphone; clipboard-read; clipboard-write;\"\n",
              "                        iframe.width = width;\n",
              "                        iframe.style.border = 0;\n",
              "                        element.appendChild(iframe);\n",
              "                    })(7866, \"/\", \"100%\", 500, false, window.element)"
            ]
          },
          "metadata": {}
        },
        {
          "output_type": "execute_result",
          "data": {
            "text/plain": []
          },
          "metadata": {},
          "execution_count": 59
        }
      ]
    },
    {
      "cell_type": "code",
      "source": [
        "from newspaper import Article\n",
        "url = 'https://tasty.co/recipe/tamagoyaki-japanese-egg-omelet'\n",
        "article = Article(url)"
      ],
      "metadata": {
        "id": "6Ye4vNPK4WIq"
      },
      "execution_count": 40,
      "outputs": []
    },
    {
      "cell_type": "code",
      "source": [
        "article.download()"
      ],
      "metadata": {
        "id": "qZZM46z8kF05"
      },
      "execution_count": 41,
      "outputs": []
    },
    {
      "cell_type": "code",
      "source": [
        "article.html"
      ],
      "metadata": {
        "colab": {
          "base_uri": "https://localhost:8080/",
          "height": 35
        },
        "id": "WFJ7sC8CkGix",
        "outputId": "0633e4de-55ca-4787-a94c-60e93cbb87ff"
      },
      "execution_count": 55,
      "outputs": [
        {
          "output_type": "execute_result",
          "data": {
            "text/plain": [
              "''"
            ],
            "application/vnd.google.colaboratory.intrinsic+json": {
              "type": "string"
            }
          },
          "metadata": {},
          "execution_count": 55
        }
      ]
    },
    {
      "cell_type": "code",
      "source": [
        "article.parse()"
      ],
      "metadata": {
        "id": "5lnftF7EkSn2"
      },
      "execution_count": 43,
      "outputs": []
    },
    {
      "cell_type": "code",
      "source": [
        "article.authors"
      ],
      "metadata": {
        "colab": {
          "base_uri": "https://localhost:8080/"
        },
        "id": "7zRlqYD3kPo1",
        "outputId": "e9e1410a-e2b5-4f4f-c78d-071124296c84"
      },
      "execution_count": 44,
      "outputs": [
        {
          "output_type": "execute_result",
          "data": {
            "text/plain": [
              "['Rie Mcclenny']"
            ]
          },
          "metadata": {},
          "execution_count": 44
        }
      ]
    },
    {
      "cell_type": "code",
      "source": [
        "article.text"
      ],
      "metadata": {
        "colab": {
          "base_uri": "https://localhost:8080/",
          "height": 70
        },
        "id": "vm1I4Y0fk2hn",
        "outputId": "ca045c72-780c-4af3-f562-d7e7260e22e8"
      },
      "execution_count": 47,
      "outputs": [
        {
          "output_type": "execute_result",
          "data": {
            "text/plain": [
              "'Opens in a new window Opens an external site in a new window Opens an external site\\n\\nTasty Logo BuzzFeed Logo Clock Play Pinterest Facebook Email Instagram Link SMS Twitter YouTube WhatsApp X Search Clock Right Arrow Arrow Down Caret down Caret up Caret left Caret right Hamburger Menu Pop Out Thumbs up Thumbs up buy Speech Audio on Replay Plus Minus Walmart Grocery Pickup Sad smiley face No results Swap More Your grocery bag Success Shop Tasty Merch'"
            ],
            "application/vnd.google.colaboratory.intrinsic+json": {
              "type": "string"
            }
          },
          "metadata": {},
          "execution_count": 47
        }
      ]
    },
    {
      "cell_type": "code",
      "source": [
        "article.nlp()"
      ],
      "metadata": {
        "id": "ivEQJ-fVlsBb"
      },
      "execution_count": 48,
      "outputs": []
    },
    {
      "cell_type": "code",
      "source": [
        "article.keywords"
      ],
      "metadata": {
        "colab": {
          "base_uri": "https://localhost:8080/"
        },
        "id": "PZE9NnYDlsdW",
        "outputId": "0d72e575-fb72-44f3-91ee-d7a4f64ad9c0"
      },
      "execution_count": 49,
      "outputs": [
        {
          "output_type": "execute_result",
          "data": {
            "text/plain": [
              "['japanese',\n",
              " 'egg',\n",
              " 'tamagoyaki',\n",
              " 'grocery',\n",
              " 'external',\n",
              " 'recipe',\n",
              " 'right',\n",
              " 'thumbs',\n",
              " 'opens',\n",
              " 'tasty',\n",
              " 'arrow',\n",
              " 'logo',\n",
              " 'window',\n",
              " 'omelet',\n",
              " 'clock',\n",
              " 'caret']"
            ]
          },
          "metadata": {},
          "execution_count": 49
        }
      ]
    },
    {
      "cell_type": "code",
      "source": [
        "article.summary"
      ],
      "metadata": {
        "colab": {
          "base_uri": "https://localhost:8080/",
          "height": 70
        },
        "id": "yV8nblKCluLB",
        "outputId": "97ab31a0-2f4a-4e5c-c904-b8748e93e210"
      },
      "execution_count": 50,
      "outputs": [
        {
          "output_type": "execute_result",
          "data": {
            "text/plain": [
              "'Opens in a new window Opens an external site in a new window Opens an external siteTasty Logo BuzzFeed Logo Clock Play Pinterest Facebook Email Instagram Link SMS Twitter YouTube WhatsApp X Search Clock Right Arrow Arrow Down Caret down Caret up Caret left Caret right Hamburger Menu Pop Out Thumbs up Thumbs up buy Speech Audio on Replay Plus Minus Walmart Grocery Pickup Sad smiley face No results Swap More Your grocery bag Success Shop Tasty Merch'"
            ],
            "application/vnd.google.colaboratory.intrinsic+json": {
              "type": "string"
            }
          },
          "metadata": {},
          "execution_count": 50
        }
      ]
    },
    {
      "cell_type": "code",
      "source": [
        "import newspaper"
      ],
      "metadata": {
        "id": "IMDb52jBlwIX"
      },
      "execution_count": 51,
      "outputs": []
    },
    {
      "cell_type": "code",
      "source": [
        "indic_paper = newspaper.build('http://swarajyamag.com')"
      ],
      "metadata": {
        "colab": {
          "base_uri": "https://localhost:8080/"
        },
        "id": "XOmG1J4FlzTb",
        "outputId": "369c88f9-30d6-4775-9b13-27ba0eb87d87"
      },
      "execution_count": 52,
      "outputs": [
        {
          "output_type": "stream",
          "name": "stderr",
          "text": [
            "CRITICAL:newspaper.network:[REQUEST FAILED] 404 Client Error: Not Found for url: https://swarajyamag.com/feeds\n",
            "CRITICAL:newspaper.network:[REQUEST FAILED] 404 Client Error: Not Found for url: https://swarajyamag.com/rss\n"
          ]
        }
      ]
    },
    {
      "cell_type": "code",
      "source": [
        "for article in indic_paper.articles:\n",
        "  print(article.url)"
      ],
      "metadata": {
        "colab": {
          "base_uri": "https://localhost:8080/"
        },
        "id": "lQ6PCylYl5kK",
        "outputId": "4543bd4e-ace5-4241-bbc7-c237813ab7dd"
      },
      "execution_count": 53,
      "outputs": [
        {
          "output_type": "stream",
          "name": "stdout",
          "text": [
            "http://swarajyamag.com/politics/papalpreet-singh-believed-to-be-brain-behind-fugitive-amritpals-escape-arrested-by-punjab-police\n",
            "http://swarajyamag.com/world/can-us-democracy-survive-joe-biden-not-to-speak-of-donald-trump\n",
            "http://swarajyamag.com/economy/first-indian-production-line-for-apple-products-tata-group-all-set-to-take-over-wistrons-bengaluru-plan\n",
            "http://swarajyamag.com/news-headlines/tamil-nadu-dmk-government-brings-resolution-in-state-assembly-urging-president-to-prescribe-time-period-to-governors-for-giving-assent-to-bills\n",
            "http://swarajyamag.com/politics/sharad-pawars-differing-take-on-adani-what-hed-said-about-the-businessman-in-2015-book\n",
            "http://swarajyamag.com/news-headlines/union-health-ministry-launches-nationwide-two-day-drill-to-assess-covid-preparedness-amid-rising-cases\n",
            "http://swarajyamag.com/world/china-simulated-precision-strikes-against-key-targets-on-taiwan-on-second-day-of-drills\n",
            "http://swarajyamag.com/politics/opposition-unity-tested-again-after-savarkar-cracks-in-maharashtras-mva-over-adani-issue-congress-jpc-demand-continues\n",
            "http://swarajyamag.com/politics/supreme-court-set-to-hear-pleas-for-minority-identification-at-state-level-today\n",
            "http://swarajyamag.com/tech/new-isro-report-details-how-space-agency-is-turning-indias-human-spaceflight-into-a-reality\n",
            "http://swarajyamag.com/politics/mallikarjun-kharge-as-karnataka-cm-d-k-shivakumar-has-his-say-amid-top-job-tussle-with-siddaramaiah\n",
            "http://swarajyamag.com/technology/telecom-authorities-crack-down-on-chinese-linked-group-block-120-sender-ids-in-2-months\n",
            "http://swarajyamag.com/politics/yet-another-crisis-in-rajasthan-congress-as-pilot-turns-up-heat-on-gehlot-over-past-corruption-cases\n",
            "http://swarajyamag.com/infrastructure/with-the-launch-of-the-thirteenth-vande-bharat-express-heres-a-look-at-the-transforming-network-of-the-vande-bharat-running-across-the-country\n",
            "http://swarajyamag.com/politics/rahul-gandhi-has-ties-with-undesirable-businessmen-former-congress-veteran-ghulam-nabi-azad\n",
            "http://swarajyamag.com/defence/disability-pension-loopholes-after-cag-rap-armed-forces-set-up-panel-to-review-criteria\n",
            "http://swarajyamag.com/world/teslas-big-plans-for-china-new-shanghai-factory-to-build-megapack-batteries\n",
            "http://swarajyamag.com/news-brief/president-xi-jinping-is-now-going-for-a-crackdown-against-chinas-financial-sector\n",
            "http://swarajyamag.com/science/indias-tiger-numbers-on-the-rise-population-in-2022-was-3167-up-67-per-cent-from-2018\n",
            "http://swarajyamag.com/politics/hindutva-allies-in-ayodhya-eknath-shinde-devendra-fadnavis-seek-darshan-of-ram-lalla-at-janmabhoomi-temple\n",
            "http://swarajyamag.com/world/europeans-must-not-be-followers-of-us-china-on-taiwan-french-president-macron\n",
            "http://swarajyamag.com/infrastructure/india-sets-sights-on-becoming-worlds-third-largest-producer-of-nuclear-energy-by-2030\n",
            "https://swarajyamag.com/politics/papalpreet-singh-believed-to-be-brain-behind-fugitive-amritpals-escape-arrested-by-punjab-police\n",
            "https://swarajyamag.com/world/can-us-democracy-survive-joe-biden-not-to-speak-of-donald-trump\n",
            "https://swarajyamag.com/economy/first-indian-production-line-for-apple-products-tata-group-all-set-to-take-over-wistrons-bengaluru-plan\n",
            "https://swarajyamag.com/news-headlines/tamil-nadu-dmk-government-brings-resolution-in-state-assembly-urging-president-to-prescribe-time-period-to-governors-for-giving-assent-to-bills\n",
            "https://swarajyamag.com/politics/sharad-pawars-differing-take-on-adani-what-hed-said-about-the-businessman-in-2015-book\n",
            "https://swarajyamag.com/news-headlines/union-health-ministry-launches-nationwide-two-day-drill-to-assess-covid-preparedness-amid-rising-cases\n",
            "https://swarajyamag.com/world/china-simulated-precision-strikes-against-key-targets-on-taiwan-on-second-day-of-drills\n",
            "https://swarajyamag.com/politics/opposition-unity-tested-again-after-savarkar-cracks-in-maharashtras-mva-over-adani-issue-congress-jpc-demand-continues\n",
            "https://swarajyamag.com/politics/supreme-court-set-to-hear-pleas-for-minority-identification-at-state-level-today\n",
            "https://swarajyamag.com/tech/new-isro-report-details-how-space-agency-is-turning-indias-human-spaceflight-into-a-reality\n",
            "https://swarajyamag.com/politics/mallikarjun-kharge-as-karnataka-cm-d-k-shivakumar-has-his-say-amid-top-job-tussle-with-siddaramaiah\n",
            "https://swarajyamag.com/technology/telecom-authorities-crack-down-on-chinese-linked-group-block-120-sender-ids-in-2-months\n",
            "https://swarajyamag.com/politics/yet-another-crisis-in-rajasthan-congress-as-pilot-turns-up-heat-on-gehlot-over-past-corruption-cases\n",
            "https://swarajyamag.com/infrastructure/with-the-launch-of-the-thirteenth-vande-bharat-express-heres-a-look-at-the-transforming-network-of-the-vande-bharat-running-across-the-country\n",
            "https://swarajyamag.com/politics/rahul-gandhi-has-ties-with-undesirable-businessmen-former-congress-veteran-ghulam-nabi-azad\n",
            "https://swarajyamag.com/defence/disability-pension-loopholes-after-cag-rap-armed-forces-set-up-panel-to-review-criteria\n",
            "https://swarajyamag.com/world/teslas-big-plans-for-china-new-shanghai-factory-to-build-megapack-batteries\n",
            "https://swarajyamag.com/news-brief/president-xi-jinping-is-now-going-for-a-crackdown-against-chinas-financial-sector\n",
            "https://swarajyamag.com/science/indias-tiger-numbers-on-the-rise-population-in-2022-was-3167-up-67-per-cent-from-2018\n",
            "https://swarajyamag.com/politics/hindutva-allies-in-ayodhya-eknath-shinde-devendra-fadnavis-seek-darshan-of-ram-lalla-at-janmabhoomi-temple\n",
            "https://swarajyamag.com/world/europeans-must-not-be-followers-of-us-china-on-taiwan-french-president-macron\n",
            "https://swarajyamag.com/infrastructure/india-sets-sights-on-becoming-worlds-third-largest-producer-of-nuclear-energy-by-2030\n",
            "http://swarajyamag.com/issue/north-karnataka-left-high-and-dry\n",
            "http://swarajyamag.com/issue/10-things-that-are-wrong-with-indian-agriculture\n",
            "http://swarajyamag.com/issue/why-the-core-hindu-voter-is-upset-with-modi\n",
            "http://swarajyamag.com/issue/rajiv-malhotra-on-the-breaking-india-brigade\n",
            "http://swarajyamag.com/issue/70-years-after-its-creation-pakistan-is-a-failed-state\n",
            "http://swarajyamag.com/issue/special-issue-reforms-25---how-far-have-we-come-on-liberalisation\n",
            "http://swarajyamag.com/issue/2015-the-year-of-intolerance\n",
            "http://swarajyamag.com/politics/justice-on-fire-supreme-court-to-hear-gujarat-government-and-convicts-pleas-in-godhra-train-burning-case\n"
          ]
        }
      ]
    },
    {
      "cell_type": "code",
      "source": [
        "for category in indic_paper.category_urls():\n",
        "  print(category)"
      ],
      "metadata": {
        "colab": {
          "base_uri": "https://localhost:8080/"
        },
        "id": "ofTYo5kHmGui",
        "outputId": "18ce39e7-0110-47c9-a029-1ba594e2ea80"
      },
      "execution_count": 54,
      "outputs": [
        {
          "output_type": "stream",
          "name": "stdout",
          "text": [
            "http://swarajyamag.com/support\n",
            "http://swarajyamag.com\n",
            "https://swarajyamag.com\n",
            "http://swarajyamag.com/all-issues\n",
            "http://swarajyamag.com/heritage\n",
            "http://swarajyamag.com/signin\n",
            "http://swarajyamag.com/write-for-us\n",
            "http://swarajyamag.com/style-guide\n",
            "http://swarajyamag.com/presskit\n",
            "http://swarajyamag.com/headlines\n"
          ]
        }
      ]
    }
  ]
}